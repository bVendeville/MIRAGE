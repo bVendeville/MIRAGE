{
 "cells": [
  {
   "cell_type": "code",
   "execution_count": 1,
   "id": "e1fb1835-bc0c-4cbe-bb74-29f762f880b2",
   "metadata": {},
   "outputs": [],
   "source": [
    "import pandas as pd\n",
    "import gc\n",
    "import torch\n",
    "from datasets import Dataset\n",
    "from mirage import factcc, feqa, factacc, qags"
   ]
  },
  {
   "cell_type": "code",
   "execution_count": 22,
   "id": "97daa75c-44cc-41f7-ac3a-34de3b2865ba",
   "metadata": {},
   "outputs": [],
   "source": [
    "dataset_path = \"../../datasets/true/begin_dev_download.csv\"\n",
    "dataset = load_dataset(dataset_path)"
   ]
  },
  {
   "cell_type": "code",
   "execution_count": 21,
   "id": "f7702fd9-1b96-4b2c-a515-b9c879e428dd",
   "metadata": {},
   "outputs": [],
   "source": [
    "def load_dataset(dataset_path):\n",
    "    df = pd.read_csv(dataset_path)\n",
    "    return Dataset.from_pandas(df)\n",
    "    \n",
    "def clear_gpu_memory():\n",
    "    gc.collect()\n",
    "    torch.cuda.empty_cache()\n",
    "    for device_id in range(torch.cuda.device_count()):\n",
    "        torch.cuda.set_device(device_id)\n",
    "        torch.cuda.empty_cache()\n",
    "\n",
    "def evaluate_factcc(dataset, dataset_name, source_col, gen_col, save_folder):\n",
    "    clear_gpu_memory()\n",
    "    \n",
    "    metric = factcc()\n",
    "    metric.create_pipeline(device=\"cuda:0\")\n",
    "    \n",
    "    map_kwargs = {\"batched\": True, \"batch_size\": 10}\n",
    "    \n",
    "    return metric.evaluate_dataset(\n",
    "        dataset,\n",
    "        source_col=source_col,\n",
    "        gen_col=gen_col,\n",
    "        truncation=True,\n",
    "        save_result_dataset_folder_path=save_folder,\n",
    "        map_kwargs=map_kwargs\n",
    "    )"
   ]
  },
  {
   "cell_type": "code",
   "execution_count": 29,
   "id": "d246ba2a-5e1b-4e2a-b780-a2b5499bf190",
   "metadata": {},
   "outputs": [
    {
     "data": {
      "application/vnd.jupyter.widget-view+json": {
       "model_id": "a702fc6c24884b44b2b487970ad43049",
       "version_major": 2,
       "version_minor": 0
      },
      "text/plain": [
       "Map:   0%|          | 0/3 [00:00<?, ? examples/s]"
      ]
     },
     "metadata": {},
     "output_type": "display_data"
    },
    {
     "data": {
      "application/vnd.jupyter.widget-view+json": {
       "model_id": "9504f56fe0204c94857ee25b79d1ff3d",
       "version_major": 2,
       "version_minor": 0
      },
      "text/plain": [
       "Saving the dataset (0/1 shards):   0%|          | 0/3 [00:00<?, ? examples/s]"
      ]
     },
     "metadata": {},
     "output_type": "display_data"
    },
    {
     "name": "stdout",
     "output_type": "stream",
     "text": [
      "Dataset saved in Hugging Face format at test/\n"
     ]
    },
    {
     "data": {
      "text/plain": [
       "Dataset({\n",
       "    features: ['text', 'gen', 'predictions', 'score'],\n",
       "    num_rows: 3\n",
       "})"
      ]
     },
     "execution_count": 29,
     "metadata": {},
     "output_type": "execute_result"
    }
   ],
   "source": [
    "evaluate_factcc(dataset = test_dataset, dataset_name = \"test\", save_folder = \"test/\")"
   ]
  },
  {
   "cell_type": "code",
   "execution_count": 2,
   "id": "9b63e873-c97b-407b-8549-d7945599a1f9",
   "metadata": {},
   "outputs": [
    {
     "ename": "NameError",
     "evalue": "name 'Dataset' is not defined",
     "output_type": "error",
     "traceback": [
      "\u001b[0;31m---------------------------------------------------------------------------\u001b[0m",
      "\u001b[0;31mNameError\u001b[0m                                 Traceback (most recent call last)",
      "Cell \u001b[0;32mIn[2], line 16\u001b[0m\n\u001b[1;32m      2\u001b[0m test_dict \u001b[38;5;241m=\u001b[39m {\n\u001b[1;32m      3\u001b[0m     \u001b[38;5;124m\"\u001b[39m\u001b[38;5;124mtext\u001b[39m\u001b[38;5;124m\"\u001b[39m: [\n\u001b[1;32m      4\u001b[0m         \u001b[38;5;124m\"\u001b[39m\u001b[38;5;124mThe mitochondria is the powerhouse of the cell.\u001b[39m\u001b[38;5;124m\"\u001b[39m,\n\u001b[0;32m   (...)\u001b[0m\n\u001b[1;32m     12\u001b[0m     ]\n\u001b[1;32m     13\u001b[0m }\n\u001b[1;32m     15\u001b[0m \u001b[38;5;66;03m# Create the dataset\u001b[39;00m\n\u001b[0;32m---> 16\u001b[0m test_dataset \u001b[38;5;241m=\u001b[39m \u001b[43mDataset\u001b[49m\u001b[38;5;241m.\u001b[39mfrom_dict(test_dict)\n\u001b[1;32m     17\u001b[0m test_df \u001b[38;5;241m=\u001b[39m pd\u001b[38;5;241m.\u001b[39mDataFrame(test_dict)\n\u001b[1;32m     18\u001b[0m test_df\u001b[38;5;241m.\u001b[39mto_json(\u001b[38;5;124m\"\u001b[39m\u001b[38;5;124minput/test_data.json\u001b[39m\u001b[38;5;124m\"\u001b[39m)\n",
      "\u001b[0;31mNameError\u001b[0m: name 'Dataset' is not defined"
     ]
    }
   ],
   "source": [
    "# Sample data\n",
    "test_dict = {\n",
    "    \"text\": [\n",
    "        \"The mitochondria is the powerhouse of the cell.\",\n",
    "        \"Water boils at 100 degrees Celsius.\",\n",
    "        \"The Eiffel Tower is located in Paris.\"\n",
    "    ],\n",
    "    \"gen\": [\n",
    "        \"Mitochondria produce energy in cells.\",\n",
    "        \"Water turns to steam at 100°C.\",\n",
    "        \"Paris is home to the Eiffel Tower.\"\n",
    "    ]\n",
    "}\n",
    "\n",
    "# Create the dataset\n",
    "test_dataset = Dataset.from_dict(test_dict)\n",
    "test_df = pd.DataFrame(test_dict)\n",
    "test_df.to_json(\"input/test_data.json\")\n",
    "\n",
    "# Display\n",
    "print(test_dataset)"
   ]
  },
  {
   "cell_type": "code",
   "execution_count": 3,
   "id": "2582ae0e-3189-4378-a1c7-43ad426cb967",
   "metadata": {},
   "outputs": [
    {
     "name": "stderr",
     "output_type": "stream",
     "text": [
      "Hardware accelerator e.g. GPU is available in the environment, but no `device` argument is passed to the `Pipeline` object. Model will be on CPU.\n"
     ]
    },
    {
     "data": {
      "application/vnd.jupyter.widget-view+json": {
       "model_id": "9193c39d75cc4d5db7bdeb3870106461",
       "version_major": 2,
       "version_minor": 0
      },
      "text/plain": [
       "Map:   0%|          | 0/3 [00:00<?, ? examples/s]"
      ]
     },
     "metadata": {},
     "output_type": "display_data"
    },
    {
     "data": {
      "application/vnd.jupyter.widget-view+json": {
       "model_id": "360c3b9e21c0426689a05754c574eafd",
       "version_major": 2,
       "version_minor": 0
      },
      "text/plain": [
       "Creating json from Arrow format:   0%|          | 0/1 [00:00<?, ?ba/s]"
      ]
     },
     "metadata": {},
     "output_type": "display_data"
    },
    {
     "name": "stdout",
     "output_type": "stream",
     "text": [
      "Dataset saved as JSON at test/evaluated_dataset.json\n"
     ]
    }
   ],
   "source": [
    "from mirage import factcc\n",
    "import pandas as pd\n",
    "\n",
    "metric = factcc()\n",
    "metric.evaluate_dataset(test_df)\n",
    "\n",
    "metric.save_results(\"test/\")"
   ]
  },
  {
   "cell_type": "code",
   "execution_count": 3,
   "id": "1a729051-d0c2-42e2-b3b1-38e55998faeb",
   "metadata": {},
   "outputs": [
    {
     "name": "stderr",
     "output_type": "stream",
     "text": [
      "Hardware accelerator e.g. GPU is available in the environment, but no `device` argument is passed to the `Pipeline` object. Model will be on CPU.\n"
     ]
    },
    {
     "data": {
      "application/vnd.jupyter.widget-view+json": {
       "model_id": "7c34e5bb64a84c2485bd7388e0952704",
       "version_major": 2,
       "version_minor": 0
      },
      "text/plain": [
       "Map:   0%|          | 0/3 [00:00<?, ? examples/s]"
      ]
     },
     "metadata": {},
     "output_type": "display_data"
    },
    {
     "data": {
      "application/vnd.jupyter.widget-view+json": {
       "model_id": "21fdce1fe0ae44128a85699e67517742",
       "version_major": 2,
       "version_minor": 0
      },
      "text/plain": [
       "Saving the dataset (0/1 shards):   0%|          | 0/3 [00:00<?, ? examples/s]"
      ]
     },
     "metadata": {},
     "output_type": "display_data"
    },
    {
     "name": "stdout",
     "output_type": "stream",
     "text": [
      "Dataset saved in Hugging Face format at test/\n"
     ]
    }
   ],
   "source": [
    "from mirage import factcc\n",
    "import pandas as pd\n",
    "\n",
    "test_df = pd.DataFrame({\n",
    "    \"text\": [\n",
    "        \"The mitochondria is the powerhouse of the cell.\",\n",
    "        \"Water boils at 100 degrees Celsius.\",\n",
    "        \"The Eiffel Tower is located in Paris.\"\n",
    "    ],\n",
    "    \"gen\": [\n",
    "        \"Mitochondria produce energy in cells.\",\n",
    "        \"Water turns to steam at 100°C.\",\n",
    "        \"Paris is home to the Eiffel Tower.\"\n",
    "    ]\n",
    "})\n",
    "\n",
    "metric = factcc()\n",
    "\n",
    "metric.evaluate_dataset(test_df)\n",
    "\n",
    "metric.save_results(\"test/\")"
   ]
  },
  {
   "cell_type": "code",
   "execution_count": 9,
   "id": "60e7b450-857e-4b4c-8d08-f313bfb49fd2",
   "metadata": {},
   "outputs": [
    {
     "name": "stderr",
     "output_type": "stream",
     "text": [
      "/tmp/ipykernel_36080/3446329626.py:13: FutureWarning: Starting with pandas version 3.0 all arguments of to_json except for the argument 'path_or_buf' will be keyword-only.\n",
      "  test_df.to_json(\"input/test_data.json\", \"records\")\n"
     ]
    }
   ],
   "source": [
    "test_df = pd.DataFrame({\n",
    "    \"text\": [\n",
    "        \"The mitochondria is the powerhouse of the cell.\",\n",
    "        \"Water boils at 100 degrees Celsius.\",\n",
    "        \"The Eiffel Tower is located in Paris.\"\n",
    "    ],\n",
    "    \"gen\": [\n",
    "        \"Mitochondria produce energy in cells.\",\n",
    "        \"Water turns to steam at 100°C.\",\n",
    "        \"Paris is home to the Eiffel Tower.\"\n",
    "    ]\n",
    "})\n",
    "test_df.to_json(\"input/test_data.json\", \"records\")"
   ]
  },
  {
   "cell_type": "code",
   "execution_count": 8,
   "id": "cef86b53-07cd-454a-8620-5646634309ab",
   "metadata": {},
   "outputs": [
    {
     "data": {
      "text/html": [
       "<div>\n",
       "<style scoped>\n",
       "    .dataframe tbody tr th:only-of-type {\n",
       "        vertical-align: middle;\n",
       "    }\n",
       "\n",
       "    .dataframe tbody tr th {\n",
       "        vertical-align: top;\n",
       "    }\n",
       "\n",
       "    .dataframe thead th {\n",
       "        text-align: right;\n",
       "    }\n",
       "</style>\n",
       "<table border=\"1\" class=\"dataframe\">\n",
       "  <thead>\n",
       "    <tr style=\"text-align: right;\">\n",
       "      <th></th>\n",
       "      <th>text</th>\n",
       "      <th>gen</th>\n",
       "    </tr>\n",
       "  </thead>\n",
       "  <tbody>\n",
       "    <tr>\n",
       "      <th>0</th>\n",
       "      <td>{'0': 'The mitochondria is the powerhouse of t...</td>\n",
       "      <td>{'0': 'Mitochondria produce energy in cells.',...</td>\n",
       "    </tr>\n",
       "  </tbody>\n",
       "</table>\n",
       "</div>"
      ],
      "text/plain": [
       "                                                text  \\\n",
       "0  {'0': 'The mitochondria is the powerhouse of t...   \n",
       "\n",
       "                                                 gen  \n",
       "0  {'0': 'Mitochondria produce energy in cells.',...  "
      ]
     },
     "execution_count": 8,
     "metadata": {},
     "output_type": "execute_result"
    }
   ],
   "source": [
    "from datasets import DatasetDict, Dataset, load_dataset\n",
    "Dataset.from_json(\"input/test_data.json\").to_pandas()"
   ]
  },
  {
   "cell_type": "code",
   "execution_count": 1,
   "id": "7b59629c-9d16-4aa6-9db2-d132aae6cadc",
   "metadata": {},
   "outputs": [
    {
     "name": "stderr",
     "output_type": "stream",
     "text": [
      "Hardware accelerator e.g. GPU is available in the environment, but no `device` argument is passed to the `Pipeline` object. Model will be on CPU.\n"
     ]
    },
    {
     "data": {
      "application/vnd.jupyter.widget-view+json": {
       "model_id": "05f42b8fa92b4094a0b9ea330f2f6fcc",
       "version_major": 2,
       "version_minor": 0
      },
      "text/plain": [
       "Saving the dataset (0/1 shards):   0%|          | 0/3 [00:00<?, ? examples/s]"
      ]
     },
     "metadata": {},
     "output_type": "display_data"
    },
    {
     "name": "stdout",
     "output_type": "stream",
     "text": [
      "Dataset saved in Hugging Face format at test/\n"
     ]
    }
   ],
   "source": [
    "from mirage import factcc\n",
    "import pandas as pd\n",
    "\n",
    "metric = factcc()\n",
    "\n",
    "metric.evaluate_dataset(\"input/test_data.json\")\n",
    "\n",
    "metric.save_results(\"test/\")"
   ]
  },
  {
   "cell_type": "code",
   "execution_count": 9,
   "id": "3a26afbe-6dbf-44fd-8827-22afb76aa99e",
   "metadata": {},
   "outputs": [
    {
     "name": "stderr",
     "output_type": "stream",
     "text": [
      "/tmp/ipykernel_36311/3296673260.py:13: FutureWarning: Starting with pandas version 3.0 all arguments of to_json except for the argument 'path_or_buf' will be keyword-only.\n",
      "  test_df.to_json(\"input/summaries.json\", \"records\")\n"
     ]
    }
   ],
   "source": [
    "test_df = pd.DataFrame({\n",
    "    \"source\": [\n",
    "        \"The mitochondria is the powerhouse of the cell.\",\n",
    "        \"Water boils at 100 degrees Celsius.\",\n",
    "        \"The Eiffel Tower is located in Paris.\"\n",
    "    ],\n",
    "    \"summary\": [\n",
    "        \"Mitochondria produce energy in cells.\",\n",
    "        \"Water turns to steam at 100°C.\",\n",
    "        \"Paris is home to the Eiffel Tower.\"\n",
    "    ]\n",
    "})\n",
    "test_df.to_json(\"input/summaries.json\", \"records\")"
   ]
  },
  {
   "cell_type": "code",
   "execution_count": 10,
   "id": "448541cf-6ccc-4319-8d06-2d47b79e3e3b",
   "metadata": {},
   "outputs": [
    {
     "data": {
      "application/vnd.jupyter.widget-view+json": {
       "model_id": "f4ce0884d12b40efaa05d33318e80554",
       "version_major": 2,
       "version_minor": 0
      },
      "text/plain": [
       "Generating train split: 0 examples [00:00, ? examples/s]"
      ]
     },
     "metadata": {},
     "output_type": "display_data"
    },
    {
     "data": {
      "application/vnd.jupyter.widget-view+json": {
       "model_id": "b75b7f3ddd5d4589b5e024691ebddaf8",
       "version_major": 2,
       "version_minor": 0
      },
      "text/plain": [
       "Map:   0%|          | 0/3 [00:00<?, ? examples/s]"
      ]
     },
     "metadata": {},
     "output_type": "display_data"
    },
    {
     "data": {
      "application/vnd.jupyter.widget-view+json": {
       "model_id": "6ee77202cdc147e09681c65a95c8c130",
       "version_major": 2,
       "version_minor": 0
      },
      "text/plain": [
       "Saving the dataset (0/1 shards):   0%|          | 0/3 [00:00<?, ? examples/s]"
      ]
     },
     "metadata": {},
     "output_type": "display_data"
    },
    {
     "name": "stdout",
     "output_type": "stream",
     "text": [
      "Dataset saved in Hugging Face format at test/results\n"
     ]
    },
    {
     "data": {
      "text/plain": [
       "Dataset({\n",
       "    features: ['source', 'summary', 'predictions', 'score'],\n",
       "    num_rows: 3\n",
       "})"
      ]
     },
     "execution_count": 10,
     "metadata": {},
     "output_type": "execute_result"
    }
   ],
   "source": [
    "from mirage import factcc\n",
    "import pandas as pd\n",
    "\n",
    "metric = factcc()\n",
    "metric.create_pipeline(device=\"cuda:0\")\n",
    "\n",
    "map_kwargs = {\"batched\": True, \"batch_size\": 10}\n",
    "\n",
    "metric.evaluate_dataset(\n",
    "    dataset=\"input/summaries.json\",\n",
    "    source_col=\"source\",\n",
    "    gen_col=\"summary\",\n",
    "    truncation=True,\n",
    "    save_result_dataset_folder_path=\"test/results\",\n",
    "    map_kwargs=map_kwargs)"
   ]
  },
  {
   "cell_type": "code",
   "execution_count": null,
   "id": "d596f9a4-50ec-4c69-8ac9-5111ed07ec08",
   "metadata": {},
   "outputs": [],
   "source": []
  }
 ],
 "metadata": {
  "kernelspec": {
   "display_name": "Python (mirage_venv)",
   "language": "python",
   "name": "my_env"
  },
  "language_info": {
   "codemirror_mode": {
    "name": "ipython",
    "version": 3
   },
   "file_extension": ".py",
   "mimetype": "text/x-python",
   "name": "python",
   "nbconvert_exporter": "python",
   "pygments_lexer": "ipython3",
   "version": "3.12.3"
  }
 },
 "nbformat": 4,
 "nbformat_minor": 5
}
